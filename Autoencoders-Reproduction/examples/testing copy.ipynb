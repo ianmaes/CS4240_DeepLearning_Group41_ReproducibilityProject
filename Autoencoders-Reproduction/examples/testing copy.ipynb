{
 "cells": [
  {
   "cell_type": "code",
   "execution_count": 7,
   "metadata": {},
   "outputs": [],
   "source": [
    "import sys\n",
    "sys.path.append(r\"C:\\Users\\ianma\\Desktop\\Study\\CS4240_DeepLearning_Group41_ReproducibilityProject\\Autoencoders-Reproduction\\src\")\n",
    "import os\n",
    "import numpy as np\n",
    "import pickle\n",
    "from example_lorenz import get_lorenz_data, generate_lorenz_data\n",
    "from autoencoder import FullNetwork\n",
    "import tensorflow as tf\n",
    "import matplotlib.pyplot as plt\n",
    "from mpl_toolkits.mplot3d import Axes3D\n",
    "import torch\n",
    "%matplotlib inline"
   ]
  },
  {
   "cell_type": "code",
   "execution_count": 8,
   "metadata": {},
   "outputs": [
    {
     "name": "stdout",
     "output_type": "stream",
     "text": [
      "{'input_dim': 128, 'latent_dim': 3, 'model_order': 1, 'poly_order': 3, 'include_sine': False, 'library_dim': 20, 'sequential_thresholding': True, 'coefficient_threshold': 0.1, 'threshold_frequency': 500, 'coefficient_mask': array([[False, False,  True],\n",
      "       [ True, False, False],\n",
      "       [ True,  True, False],\n",
      "       [False, False,  True],\n",
      "       [False, False, False],\n",
      "       [False, False,  True],\n",
      "       [False,  True, False],\n",
      "       [False, False, False],\n",
      "       [False, False, False],\n",
      "       [False, False, False],\n",
      "       [False, False, False],\n",
      "       [False, False, False],\n",
      "       [False, False, False],\n",
      "       [False, False, False],\n",
      "       [False, False, False],\n",
      "       [False, False, False],\n",
      "       [False, False, False],\n",
      "       [False, False, False],\n",
      "       [False, False, False],\n",
      "       [False, False, False]]), 'coefficient_initialization': 'constant', 'loss_weight_decoder': 1.0, 'loss_weight_sindy_z': 0.0, 'loss_weight_sindy_x': 0.0001, 'loss_weight_sindy_regularization': 1e-05, 'activation': 'sigmoid', 'widths': [64, 32], 'epoch_size': 512000, 'batch_size': 8000, 'learning_rate': 0.001, 'data_path': '/Users/kpchamp/Dropbox (uwamath)/backup/research/code/autoencoder/SindyAutoencoders/examples/', 'print_progress': True, 'print_frequency': 100, 'max_epochs': 10001, 'refinement_epochs': 1001}\n",
      "Constant initialization\n"
     ]
    }
   ],
   "source": [
    "params = pickle.load(open(r'C:\\Users\\ianma\\Desktop\\Study\\CS4240_DeepLearning_Group41_ReproducibilityProject\\SindyAutoencoders-master\\examples\\lorenz\\model1_params.pkl', 'rb'))\n",
    "print(params)\n",
    "torch.manual_seed(1)\n",
    "autoencoder_network = FullNetwork(params)\n",
    "training_data = get_lorenz_data(1024, noise_strength=1e-6)\n"
   ]
  },
  {
   "cell_type": "code",
   "execution_count": 6,
   "metadata": {},
   "outputs": [
    {
     "name": "stdout",
     "output_type": "stream",
     "text": [
      "torch.Size([256000, 1])\n",
      "torch.Size([256000, 1])\n",
      "torch.Size([256000, 1])\n",
      "torch.Size([256000, 1])\n",
      "torch.Size([256000, 1])\n",
      "torch.Size([256000, 1])\n",
      "torch.Size([256000, 1])\n",
      "torch.Size([256000, 1])\n",
      "torch.Size([256000, 1])\n",
      "torch.Size([256000, 1])\n",
      "torch.Size([256000, 1])\n",
      "torch.Size([256000, 1])\n",
      "torch.Size([256000, 1])\n",
      "torch.Size([256000, 1])\n",
      "torch.Size([256000, 1])\n",
      "torch.Size([256000, 1])\n",
      "torch.Size([256000, 1])\n",
      "torch.Size([256000, 1])\n",
      "torch.Size([256000, 1])\n",
      "torch.Size([256000, 1])\n",
      "torch.Size([256000, 20])\n",
      "torch.Size([256000, 128])\n"
     ]
    }
   ],
   "source": [
    "X = torch.Tensor(training_data['x'])\n",
    "dX = torch.Tensor(training_data['dx'])\n",
    "output = autoencoder_network.forward(X, dX)\n",
    "print(output[0])\n"
   ]
  },
  {
   "cell_type": "markdown",
   "metadata": {},
   "source": []
  }
 ],
 "metadata": {
  "kernelspec": {
   "display_name": "pytorch_env",
   "language": "python",
   "name": "python3"
  },
  "language_info": {
   "codemirror_mode": {
    "name": "ipython",
    "version": 3
   },
   "file_extension": ".py",
   "mimetype": "text/x-python",
   "name": "python",
   "nbconvert_exporter": "python",
   "pygments_lexer": "ipython3",
   "version": "3.11.5"
  }
 },
 "nbformat": 4,
 "nbformat_minor": 2
}
