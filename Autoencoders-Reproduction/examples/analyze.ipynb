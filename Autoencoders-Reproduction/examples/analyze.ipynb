{
 "cells": [
  {
   "cell_type": "code",
   "execution_count": 8,
   "metadata": {},
   "outputs": [],
   "source": [
    "import sys\n",
    "sys.path.append(\"../../src\")\n",
    "import pandas as pd\n",
    "import numpy as np\n",
    "import matplotlib.pyplot as plt\n",
    "from example_lorenz import generate_lorenz_data\n",
    "import os\n",
    "import pickle\n",
    "from autoencoder import FullNetwork\n",
    "import torch\n",
    "from sindy_utils import sindy_simulate\n",
    "\n",
    "data_path = os.getcwd() + '/'\n",
    "save_name = 'lorenz_2024_04_07_23_29_11_426420'\n",
    "params = pickle.load(open(data_path + save_name + '_params.pkl', 'rb'))\n",
    "params['save_name'] = data_path + save_name\n",
    "\n",
    "dataframe = pd.read_pickle(r'C:\\Users\\ianma\\Desktop\\Study\\Python\\CS4240_DeepLearning_Group41_ReproducibilityProject\\Autoencoders-Reproduction\\examples\\experiment_results_202404080247.pkl')\n",
    "\n",
    "\n",
    "Xi_plot = np.array(dataframe['coefficient_mask']*dataframe['sindy_coefficients'])[0]\n",
    "sindy_coefficients = np.array(dataframe['sindy_coefficients'])[0]\n",
    "coefficient_mask = np.array(dataframe['coefficient_mask'])[0]\n",
    "   "
   ]
  },
  {
   "cell_type": "code",
   "execution_count": 9,
   "metadata": {},
   "outputs": [
    {
     "data": {
      "text/plain": [
       "<All keys matched successfully>"
      ]
     },
     "execution_count": 9,
     "metadata": {},
     "output_type": "execute_result"
    }
   ],
   "source": [
    "autoencoder_network = FullNetwork(params).to(params['device'])\n",
    "path = 'lorenz_2024_04_07_23_29_11_426420.pth'\n",
    "state_dict = torch.load(path)\n",
    "autoencoder_network.load_state_dict(state_dict)\n"
   ]
  },
  {
   "cell_type": "code",
   "execution_count": 10,
   "metadata": {},
   "outputs": [],
   "source": [
    "a1 = 1\n",
    "a2 = sindy_coefficients[2,0]/sindy_coefficients[2,0]\n",
    "a3 = np.sqrt(-sindy_coefficients[5,2]/sindy_coefficients[6,1]*a2**2)\n",
    "b3 = -sindy_coefficients[0,2]/sindy_coefficients[3,2]\n",
    "\n",
    "sindy_coefficients_transformed = np.zeros(sindy_coefficients.shape)\n",
    "sindy_coefficients_transformed[1,0] = sindy_coefficients[1,0]\n",
    "sindy_coefficients_transformed[2,0] = sindy_coefficients[2,0]*a2/a1\n",
    "sindy_coefficients_transformed[1,1] = sindy_coefficients[6,1]*a1/a2*b3\n",
    "sindy_coefficients_transformed[2,1] = sindy_coefficients[2,1]\n",
    "sindy_coefficients_transformed[6,1] = sindy_coefficients[6,1]*a1*a3/a2\n",
    "sindy_coefficients_transformed[3,2] = sindy_coefficients[3,2]\n",
    "sindy_coefficients_transformed[5,2] = sindy_coefficients[5,2]*a1*a2/a3"
   ]
  },
  {
   "cell_type": "code",
   "execution_count": 11,
   "metadata": {},
   "outputs": [
    {
     "data": {
      "image/png": "[encoded data removed]",
      "text/plain": [
       "<Figure size 100x200 with 1 Axes>"
      ]
     },
     "metadata": {},
     "output_type": "display_data"
    },
    {
     "data": {
      "image/png": "[encoded data removed]",
      "text/plain": [
       "<Figure size 100x200 with 1 Axes>"
      ]
     },
     "metadata": {},
     "output_type": "display_data"
    }
   ],
   "source": [
    "\n",
    "Xi_plot = np.where(Xi_plot == 0, np.inf, Xi_plot)\n",
    "plt.figure(figsize=(1,2))\n",
    "plt.imshow(Xi_plot, interpolation='none')\n",
    "plt.xticks([])\n",
    "plt.yticks([])\n",
    "plt.axis('off')\n",
    "plt.clim([-10,30])\n",
    "plt.show()\n",
    "\n",
    "Xi_transformed_plot = np.copy(sindy_coefficients_transformed)\n",
    "Xi_transformed_plot[Xi_transformed_plot==0] = np.inf\n",
    "plt.figure(figsize=(1,2))\n",
    "plt.imshow(Xi_transformed_plot, interpolation='none')\n",
    "plt.xticks([])\n",
    "plt.yticks([])\n",
    "plt.axis('off')\n",
    "plt.clim([-10,30])\n",
    "plt.show()"
   ]
  },
  {
   "cell_type": "code",
   "execution_count": 12,
   "metadata": {},
   "outputs": [],
   "source": [
    "t = np.arange(0,20,.01)\n",
    "z0 = np.array([[-8,7,27]])\n",
    "\n",
    "test_data = generate_lorenz_data(z0, t, params['input_dim'], linear=False, normalization=np.array([1/40,1/40,1/40]))\n",
    "test_data['x'] = torch.tensor(test_data['x'].reshape((-1,params['input_dim'])), dtype=torch.float32).to(params['device'])\n",
    "test_data['dx'] = torch.tensor(test_data['dx'].reshape((-1,params['input_dim'])), dtype=torch.float32).to(params['device'])\n",
    "test_data['z'] = test_data['z'].reshape((-1,params['latent_dim']))\n",
    "test_data['dz'] = test_data['dz'].reshape((-1,params['latent_dim']))"
   ]
  },
  {
   "cell_type": "code",
   "execution_count": 14,
   "metadata": {},
   "outputs": [],
   "source": [
    "_, _, _, test_results_z, _, _, _, _ = autoencoder_network.forward(test_data['x'], test_data['dx'])\n",
    "test_results_z = test_results_z.cpu().detach().numpy()"
   ]
  },
  {
   "cell_type": "code",
   "execution_count": null,
   "metadata": {},
   "outputs": [],
   "source": [
    "z_sim = sindy_simulate(test_results_z[0], t, params['coefficient_mask']*sindy_coefficients,\n",
    "                       params['poly_order'], params['include_sine'])"
   ]
  }
 ],
 "metadata": {
  "kernelspec": {
   "display_name": "deep_learning",
   "language": "python",
   "name": "python3"
  },
  "language_info": {
   "codemirror_mode": {
    "name": "ipython",
    "version": 3
   },
   "file_extension": ".py",
   "mimetype": "text/x-python",
   "name": "python",
   "nbconvert_exporter": "python",
   "pygments_lexer": "ipython3",
   "version": "3.12.2"
  }
 },
 "nbformat": 4,
 "nbformat_minor": 2
}
