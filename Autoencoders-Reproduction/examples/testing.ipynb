{
 "cells": [
  {
   "cell_type": "code",
   "execution_count": 3,
   "metadata": {},
   "outputs": [],
   "source": [
    "import sys\n",
    "sys.path.append(r\"C:\\Users\\ianma\\Desktop\\Study\\CS4240_DeepLearning_Group41_ReproducibilityProject\\Autoencoders-Reproduction\\src\")\n",
    "import os\n",
    "import numpy as np\n",
    "import pickle\n",
    "from example_lorenz import get_lorenz_data, generate_lorenz_data\n",
    "from autoencoder import FullNetwork\n",
    "import tensorflow as tf\n",
    "import matplotlib.pyplot as plt\n",
    "from mpl_toolkits.mplot3d import Axes3D\n",
    "import torch\n",
    "%matplotlib inline"
   ]
  },
  {
   "cell_type": "code",
   "execution_count": 6,
   "metadata": {},
   "outputs": [
    {
     "name": "stdout",
     "output_type": "stream",
     "text": [
      "Constant initialization\n",
      "[[  0.          0.          0.       ]\n",
      " [-10.         28.          0.       ]\n",
      " [ 10.         -1.          0.       ]\n",
      " [  0.          0.         -2.6666667]\n",
      " [  0.          0.          0.       ]\n",
      " [  0.          0.         40.       ]\n",
      " [  0.        -40.          0.       ]\n",
      " [  0.          0.          0.       ]\n",
      " [  0.          0.          0.       ]\n",
      " [  0.          0.          0.       ]\n",
      " [  0.          0.          0.       ]\n",
      " [  0.          0.          0.       ]\n",
      " [  0.          0.          0.       ]\n",
      " [  0.          0.          0.       ]\n",
      " [  0.          0.          0.       ]\n",
      " [  0.          0.          0.       ]\n",
      " [  0.          0.          0.       ]\n",
      " [  0.          0.          0.       ]\n",
      " [  0.          0.          0.       ]\n",
      " [  0.          0.          0.       ]]\n"
     ]
    }
   ],
   "source": [
    "params = pickle.load(open(r'C:\\Users\\ianma\\Desktop\\Study\\CS4240_DeepLearning_Group41_ReproducibilityProject\\SindyAutoencoders-master\\examples\\lorenz\\model1_params.pkl', 'rb'))\n",
    "torch.manual_seed(1)\n",
    "params['sindy_coefficients'] = \n",
    "autoencoder_network = FullNetwork(params)\n",
    "training_data = get_lorenz_data(1024, noise_strength=1e-6)\n",
    "\n"
   ]
  },
  {
   "cell_type": "code",
   "execution_count": 5,
   "metadata": {},
   "outputs": [
    {
     "name": "stdout",
     "output_type": "stream",
     "text": [
      "torch.Size([256000, 1])\n",
      "torch.Size([256000, 1])\n",
      "torch.Size([256000, 1])\n",
      "torch.Size([256000, 1])\n",
      "torch.Size([256000, 1])\n",
      "torch.Size([256000, 1])\n",
      "torch.Size([256000, 1])\n",
      "torch.Size([256000, 1])\n",
      "torch.Size([256000, 1])\n",
      "torch.Size([256000, 1])\n",
      "torch.Size([256000, 1])\n",
      "torch.Size([256000, 1])\n",
      "torch.Size([256000, 1])\n",
      "torch.Size([256000, 1])\n",
      "torch.Size([256000, 1])\n",
      "torch.Size([256000, 1])\n",
      "torch.Size([256000, 1])\n",
      "torch.Size([256000, 1])\n",
      "torch.Size([256000, 1])\n",
      "torch.Size([256000, 1])\n",
      "torch.Size([256000, 20])\n",
      "Parameter containing:\n",
      "tensor([[1., 1., 1.],\n",
      "        [1., 1., 1.],\n",
      "        [1., 1., 1.],\n",
      "        [1., 1., 1.],\n",
      "        [1., 1., 1.],\n",
      "        [1., 1., 1.],\n",
      "        [1., 1., 1.],\n",
      "        [1., 1., 1.],\n",
      "        [1., 1., 1.],\n",
      "        [1., 1., 1.],\n",
      "        [1., 1., 1.],\n",
      "        [1., 1., 1.],\n",
      "        [1., 1., 1.],\n",
      "        [1., 1., 1.],\n",
      "        [1., 1., 1.],\n",
      "        [1., 1., 1.],\n",
      "        [1., 1., 1.],\n",
      "        [1., 1., 1.],\n",
      "        [1., 1., 1.],\n",
      "        [1., 1., 1.]], requires_grad=True)\n"
     ]
    }
   ],
   "source": [
    "X = torch.Tensor(training_data['x'])\n",
    "dX = torch.Tensor(training_data['dx'])\n",
    "output = autoencoder_network.forward(X, dX)\n",
    "\n",
    "print(autoencoder_network.sindy_coefficients)"
   ]
  },
  {
   "cell_type": "markdown",
   "metadata": {},
   "source": []
  }
 ],
 "metadata": {
  "kernelspec": {
   "display_name": "pytorch_env",
   "language": "python",
   "name": "python3"
  },
  "language_info": {
   "codemirror_mode": {
    "name": "ipython",
    "version": 3
   },
   "file_extension": ".py",
   "mimetype": "text/x-python",
   "name": "python",
   "nbconvert_exporter": "python",
   "pygments_lexer": "ipython3",
   "version": "3.11.5"
  }
 },
 "nbformat": 4,
 "nbformat_minor": 2
}
