{
 "cells": [
  {
   "cell_type": "code",
   "execution_count": null,
   "metadata": {},
   "outputs": [],
   "source": [
    "import sys\n",
    "print(sys.path)\n",
    "sys.path.append(r\"..\\src\")\n",
    "import os\n",
    "import numpy as np\n",
    "import pickle\n",
    "from example_lorenz import get_lorenz_data, generate_lorenz_data\n",
    "from autoencoder import FullNetwork\n",
    "import matplotlib.pyplot as plt\n",
    "from mpl_toolkits.mplot3d import Axes3D\n",
    "import torch\n",
    "%matplotlib inline"
   ]
  },
  {
   "cell_type": "code",
   "execution_count": null,
   "metadata": {},
   "outputs": [],
   "source": [
    "params = pickle.load(open('model1_params.pkl', 'rb'))\n",
    "print(params)\n",
    "torch.manual_seed(1)\n",
    "autoencoder_network = FullNetwork(params)\n",
    "training_data = get_lorenz_data(1024, noise_strength=1e-6)\n"
   ]
  },
  {
   "cell_type": "code",
   "execution_count": null,
   "metadata": {},
   "outputs": [],
   "source": [
    "X = torch.Tensor(training_data['x'])\n",
    "dX = torch.Tensor(training_data['dx'])\n",
    "output = autoencoder_network.forward(X, dX)\n",
    "print(output[0])"
   ]
  }
 ],
 "metadata": {
  "kernelspec": {
   "display_name": "pytorch_env",
   "language": "python",
   "name": "python3"
  },
  "language_info": {
   "codemirror_mode": {
    "name": "ipython",
    "version": 3
   },
   "file_extension": ".py",
   "mimetype": "text/x-python",
   "name": "python",
   "nbconvert_exporter": "python",
   "pygments_lexer": "ipython3",
   "version": "3.12.2"
  }
 },
 "nbformat": 4,
 "nbformat_minor": 2
}
