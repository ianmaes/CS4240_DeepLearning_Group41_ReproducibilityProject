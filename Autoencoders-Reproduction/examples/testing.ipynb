{
 "cells": [
  {
   "cell_type": "code",
   "execution_count": 4,
   "metadata": {},
   "outputs": [],
   "source": [
    "import sys\n",
    "sys.path.append(r\"C:\\Users\\ianma\\Desktop\\Study\\CS4240_DeepLearning_Group41_ReproducibilityProject\\Autoencoders-Reproduction\\src\")\n",
    "import os\n",
    "import numpy as np\n",
    "import pickle\n",
    "from example_lorenz import get_lorenz_data, generate_lorenz_data\n",
    "from autoencoder import FullNetwork\n",
    "import tensorflow as tf\n",
    "import matplotlib.pyplot as plt\n",
    "from mpl_toolkits.mplot3d import Axes3D\n",
    "import torch\n",
    "%matplotlib inline"
   ]
  },
  {
   "cell_type": "code",
   "execution_count": 5,
   "metadata": {},
   "outputs": [
    {
     "name": "stdout",
     "output_type": "stream",
     "text": [
      "dict_keys(['t', 'y_spatial', 'modes', 'x', 'dx', 'ddx', 'z', 'dz', 'ddz', 'sindy_coefficients'])\n"
     ]
    }
   ],
   "source": [
    "params = pickle.load(open(r'C:\\Users\\ianma\\Desktop\\Study\\CS4240_DeepLearning_Group41_ReproducibilityProject\\SindyAutoencoders-master\\examples\\lorenz\\model1_params.pkl', 'rb'))\n",
    "\n",
    "autoencoder_network = FullNetwork(params)\n",
    "params['activation'] = 'relu'\n",
    "training_data = get_lorenz_data(1024, noise_strength=1e-6)\n",
    "print(training_data.keys())\n"
   ]
  },
  {
   "cell_type": "code",
   "execution_count": 6,
   "metadata": {},
   "outputs": [
    {
     "name": "stdout",
     "output_type": "stream",
     "text": [
      "relu\n",
      "torch.Size([256000, 1])\n",
      "torch.Size([256000, 1])\n",
      "torch.Size([256000, 1])\n",
      "torch.Size([256000, 1])\n",
      "torch.Size([256000, 1])\n",
      "torch.Size([256000, 1])\n",
      "torch.Size([256000, 1])\n",
      "torch.Size([256000, 1])\n",
      "torch.Size([256000, 1])\n",
      "torch.Size([256000, 1])\n",
      "torch.Size([256000, 1])\n",
      "torch.Size([256000, 1])\n",
      "torch.Size([256000, 1])\n",
      "torch.Size([256000, 1])\n",
      "torch.Size([256000, 1])\n",
      "torch.Size([256000, 1])\n",
      "torch.Size([256000, 1])\n",
      "torch.Size([256000, 1])\n",
      "torch.Size([256000, 1])\n",
      "torch.Size([256000, 1])\n",
      "torch.Size([256000, 20])\n"
     ]
    },
    {
     "data": {
      "text/plain": [
       "(tensor([[-0.3122,  0.3301,  0.1281,  ...,  0.0396,  0.3957, -0.2198],\n",
       "         [-0.3121,  0.3298,  0.1280,  ...,  0.0399,  0.3954, -0.2197],\n",
       "         [-0.3124,  0.3297,  0.1277,  ...,  0.0401,  0.3954, -0.2199],\n",
       "         ...,\n",
       "         [-0.3098,  0.3276,  0.1288,  ...,  0.0415,  0.3933, -0.2178],\n",
       "         [-0.3099,  0.3277,  0.1287,  ...,  0.0414,  0.3934, -0.2178],\n",
       "         [-0.3099,  0.3277,  0.1287,  ...,  0.0414,  0.3934, -0.2179]],\n",
       "        grad_fn=<AddmmBackward0>),\n",
       " tensor([[-0.1082,  0.1166,  0.1395,  ...,  0.1937,  0.2180,  0.0499],\n",
       "         [-0.1079,  0.1162,  0.1396,  ...,  0.1941,  0.2177,  0.0504],\n",
       "         [-0.1079,  0.1162,  0.1396,  ...,  0.1941,  0.2176,  0.0505],\n",
       "         ...,\n",
       "         [-0.1060,  0.1138,  0.1401,  ...,  0.1966,  0.2154,  0.0538],\n",
       "         [-0.1060,  0.1139,  0.1401,  ...,  0.1965,  0.2155,  0.0537],\n",
       "         [-0.1061,  0.1139,  0.1400,  ...,  0.1965,  0.2155,  0.0536]],\n",
       "        grad_fn=<AddmmBackward0>),\n",
       " None)"
      ]
     },
     "execution_count": 6,
     "metadata": {},
     "output_type": "execute_result"
    }
   ],
   "source": [
    "print(params['activation'])\n",
    "X = torch.Tensor(training_data['x'])\n",
    "dX = torch.Tensor(training_data['dx'])\n",
    "autoencoder_network.forward(X, dX)\n"
   ]
  },
  {
   "cell_type": "markdown",
   "metadata": {},
   "source": []
  }
 ],
 "metadata": {
  "kernelspec": {
   "display_name": "pytorch_env",
   "language": "python",
   "name": "python3"
  },
  "language_info": {
   "codemirror_mode": {
    "name": "ipython",
    "version": 3
   },
   "file_extension": ".py",
   "mimetype": "text/x-python",
   "name": "python",
   "nbconvert_exporter": "python",
   "pygments_lexer": "ipython3",
   "version": "3.11.5"
  }
 },
 "nbformat": 4,
 "nbformat_minor": 2
}
