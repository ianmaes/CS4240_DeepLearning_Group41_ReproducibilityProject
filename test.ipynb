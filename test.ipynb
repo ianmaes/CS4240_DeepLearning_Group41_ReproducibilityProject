{
 "cells": [
  {
   "cell_type": "markdown",
   "id": "5d127c9a",
   "metadata": {
    "papermill": {
     "duration": 0.002635,
     "end_time": "2024-03-15T09:48:59.931801",
     "exception": false,
     "start_time": "2024-03-15T09:48:59.929166",
     "status": "completed"
    },
    "tags": []
   },
   "source": [
    "Testing notebook:\n",
    "1. Wassup\n",
    "2. Dude\n"
   ]
  },
  {
   "cell_type": "code",
   "execution_count": 1,
   "id": "e26fbadf",
   "metadata": {
    "execution": {
     "iopub.execute_input": "2024-03-15T09:48:59.938749Z",
     "iopub.status.busy": "2024-03-15T09:48:59.937988Z",
     "iopub.status.idle": "2024-03-15T09:49:03.754946Z",
     "shell.execute_reply": "2024-03-15T09:49:03.753727Z"
    },
    "papermill": {
     "duration": 3.82358,
     "end_time": "2024-03-15T09:49:03.757878",
     "exception": false,
     "start_time": "2024-03-15T09:48:59.934298",
     "status": "completed"
    },
    "tags": []
   },
   "outputs": [],
   "source": [
    "import numpy as np\n",
    "import torch"
   ]
  },
  {
   "cell_type": "code",
   "execution_count": 2,
   "id": "5a1a4b24",
   "metadata": {
    "execution": {
     "iopub.execute_input": "2024-03-15T09:49:03.764306Z",
     "iopub.status.busy": "2024-03-15T09:49:03.763749Z",
     "iopub.status.idle": "2024-03-15T09:49:03.771122Z",
     "shell.execute_reply": "2024-03-15T09:49:03.770032Z"
    },
    "papermill": {
     "duration": 0.013466,
     "end_time": "2024-03-15T09:49:03.773682",
     "exception": false,
     "start_time": "2024-03-15T09:49:03.760216",
     "status": "completed"
    },
    "tags": []
   },
   "outputs": [
    {
     "name": "stdout",
     "output_type": "stream",
     "text": [
      "[1 2]\n"
     ]
    }
   ],
   "source": [
    "test = np.array([1, 2])\n",
    "test2 = np.array([1, 3])\n",
    "print(test)"
   ]
  }
 ],
 "metadata": {
  "kaggle": {
   "accelerator": "none",
   "dataSources": [],
   "dockerImageVersionId": 30664,
   "isGpuEnabled": false,
   "isInternetEnabled": true,
   "language": "python",
   "sourceType": "notebook"
  },
  "kernelspec": {
   "display_name": "deep_learning",
   "language": "python",
   "name": "python3"
  },
  "language_info": {
   "codemirror_mode": {
    "name": "ipython",
    "version": 3
   },
   "file_extension": ".py",
   "mimetype": "text/x-python",
   "name": "python",
   "nbconvert_exporter": "python",
   "pygments_lexer": "ipython3",
   "version": "3.12.2"
  },
  "papermill": {
   "default_parameters": {},
   "duration": 7.901625,
   "end_time": "2024-03-15T09:49:04.597917",
   "environment_variables": {},
   "exception": null,
   "input_path": "__notebook__.ipynb",
   "output_path": "__notebook__.ipynb",
   "parameters": {},
   "start_time": "2024-03-15T09:48:56.696292",
   "version": "2.5.0"
  }
 },
 "nbformat": 4,
 "nbformat_minor": 5
}
